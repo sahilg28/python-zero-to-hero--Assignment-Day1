{
  "nbformat": 4,
  "nbformat_minor": 0,
  "metadata": {
    "colab": {
      "name": "Sahil-assignment.ipynb",
      "provenance": [],
      "authorship_tag": "ABX9TyMKnFiBDkN+JhzsAVi060eW",
      "include_colab_link": true
    },
    "kernelspec": {
      "name": "python3",
      "display_name": "Python 3"
    },
    "language_info": {
      "name": "python"
    }
  },
  "cells": [
    {
      "cell_type": "markdown",
      "metadata": {
        "id": "view-in-github",
        "colab_type": "text"
      },
      "source": [
        "<a href=\"https://colab.research.google.com/github/sahilg28/python-zero-to-hero--Assignment-Day1/blob/main/Sahil_assignment(Day2).ipynb\" target=\"_parent\"><img src=\"https://colab.research.google.com/assets/colab-badge.svg\" alt=\"Open In Colab\"/></a>"
      ]
    },
    {
      "cell_type": "code",
      "metadata": {
        "colab": {
          "base_uri": "https://localhost:8080/"
        },
        "id": "gmbvxm160D9b",
        "outputId": "9d2d923b-5121-4c40-bd21-d00bee3f23ac"
      },
      "source": [
        " #Assignment 2\n",
        "list=[1,2,3,4,4,6,5]\n",
        "val=4\n",
        "list.remove(val)\n",
        "print(list)"
      ],
      "execution_count": null,
      "outputs": [
        {
          "output_type": "stream",
          "text": [
            "[1, 2, 3, 4, 6, 5]\n"
          ],
          "name": "stdout"
        }
      ]
    },
    {
      "cell_type": "code",
      "metadata": {
        "colab": {
          "base_uri": "https://localhost:8080/"
        },
        "id": "0xj3sJp40hDR",
        "outputId": "e5101b6c-608b-4f76-c854-c83a2aa33e55"
      },
      "source": [
        "#Assignment 3\n",
        "import string\n",
        "def ispangram(str):\n",
        "   alphabet = \"abcdefghijklmnopqrstuvwxyz\"\n",
        "   for char in alphabet:\n",
        "      if char not in str.lower():\n",
        "         return False\n",
        "   return True\n",
        " \n",
        "string = 'i live in delhi'\n",
        "if (ispangram(string) == True):\n",
        "   print(\"Yes\")\n",
        "else:\n",
        "   print(\"No\")"
      ],
      "execution_count": null,
      "outputs": [
        {
          "output_type": "stream",
          "text": [
            "No\n"
          ],
          "name": "stdout"
        }
      ]
    },
    {
      "cell_type": "code",
      "metadata": {
        "colab": {
          "base_uri": "https://localhost:8080/"
        },
        "id": "mawXhPgI1ZIj",
        "outputId": "6a58e3a3-6730-43f0-a192-51d90cd6e32f"
      },
      "source": [
        "#project- OTP generator\n",
        "import random as r\n",
        "import string\n",
        "length = 4\n",
        "otp = ''\n",
        "characters = string.ascii_letters+string.digits\n",
        " \n",
        "for i in range(length):\n",
        "    otp = otp + r.choice(characters)\n",
        "print(\"OTP:\",otp)"
      ],
      "execution_count": null,
      "outputs": [
        {
          "output_type": "stream",
          "text": [
            "OTP: mkr1\n"
          ],
          "name": "stdout"
        }
      ]
    }
  ]
}