{
  "nbformat": 4,
  "nbformat_minor": 0,
  "metadata": {
    "colab": {
      "name": "Sahil-assignment-day4.ipynb",
      "provenance": [],
      "authorship_tag": "ABX9TyP0IevUalzzuxhiHyOSntnf",
      "include_colab_link": true
    },
    "kernelspec": {
      "name": "python3",
      "display_name": "Python 3"
    },
    "language_info": {
      "name": "python"
    }
  },
  "cells": [
    {
      "cell_type": "markdown",
      "metadata": {
        "id": "view-in-github",
        "colab_type": "text"
      },
      "source": [
        "<a href=\"https://colab.research.google.com/github/sahilg28/python-zero-to-hero--Assignment-Day1/blob/main/Sahil_assignment_day4.ipynb\" target=\"_parent\"><img src=\"https://colab.research.google.com/assets/colab-badge.svg\" alt=\"Open In Colab\"/></a>"
      ]
    },
    {
      "cell_type": "code",
      "metadata": {
        "id": "8b0DAac36kS5"
      },
      "source": [
        " #Python program to convert Centigrade to Fahrenheit\n",
        "import math\n",
        "c=int(input(\"centrigrade:\"))\n",
        "f=int(c*9/5)+32\n",
        "print('The temperature in fahrenheit is:',f)"
      ],
      "execution_count": null,
      "outputs": []
    }
  ]
}