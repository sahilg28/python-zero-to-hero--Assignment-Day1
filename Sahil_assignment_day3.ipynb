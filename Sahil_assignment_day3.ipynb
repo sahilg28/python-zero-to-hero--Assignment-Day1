{
  "nbformat": 4,
  "nbformat_minor": 0,
  "metadata": {
    "colab": {
      "name": "Sahil-assignment-day3.ipynb",
      "provenance": [],
      "authorship_tag": "ABX9TyPE2FkKwnR+wTHA+EZjQjJ5",
      "include_colab_link": true
    },
    "kernelspec": {
      "name": "python3",
      "display_name": "Python 3"
    },
    "language_info": {
      "name": "python"
    }
  },
  "cells": [
    {
      "cell_type": "markdown",
      "metadata": {
        "id": "view-in-github",
        "colab_type": "text"
      },
      "source": [
        "<a href=\"https://colab.research.google.com/github/sahilg28/python-zero-to-hero--Assignment-Day1/blob/main/Sahil_assignment_day3.ipynb\" target=\"_parent\"><img src=\"https://colab.research.google.com/assets/colab-badge.svg\" alt=\"Open In Colab\"/></a>"
      ]
    },
    {
      "cell_type": "code",
      "metadata": {
        "colab": {
          "base_uri": "https://localhost:8080/"
        },
        "id": "mimMkbHh4eBa",
        "outputId": "6a273728-d9c9-44b3-d191-fb653624c902"
      },
      "source": [
        "#list of gifts given to the respective persons\n",
        "person_list={'1':2, '2':1, '3':4, '4':5, '5':3}\n",
        "print(person_list.values())"
      ],
      "execution_count": 1,
      "outputs": [
        {
          "output_type": "stream",
          "text": [
            "dict_values([2, 1, 4, 5, 3])\n"
          ],
          "name": "stdout"
        }
      ]
    }
  ]
}